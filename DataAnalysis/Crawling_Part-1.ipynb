{
 "cells": [
  {
   "cell_type": "code",
   "execution_count": 1,
   "metadata": {},
   "outputs": [],
   "source": [
    "import bs4\n",
    "import urllib.request as url"
   ]
  },
  {
   "cell_type": "markdown",
   "metadata": {},
   "source": [
    "# Introduction to crawling"
   ]
  },
  {
   "cell_type": "markdown",
   "metadata": {},
   "source": [
    "### Crawling flipkart"
   ]
  },
  {
   "cell_type": "code",
   "execution_count": 2,
   "metadata": {},
   "outputs": [],
   "source": [
    "path = \"https://www.flipkart.com/search?q=tv&otracker=search&otracker1=search&marketplace=FLIPKART&as-show=on&as=off&as-pos=0&as-type=HISTORY&as-backfill=on\"J"
   ]
  },
  {
   "cell_type": "code",
   "execution_count": 3,
   "metadata": {},
   "outputs": [
    {
     "data": {
      "text/plain": [
       "<http.client.HTTPResponse at 0x2059af5b2b0>"
      ]
     },
     "execution_count": 3,
     "metadata": {},
     "output_type": "execute_result"
    }
   ],
   "source": [
    "url.urlopen(path)"
   ]
  },
  {
   "cell_type": "code",
   "execution_count": 4,
   "metadata": {},
   "outputs": [],
   "source": [
    "res = url.urlopen(path)"
   ]
  },
  {
   "cell_type": "code",
   "execution_count": 5,
   "metadata": {},
   "outputs": [],
   "source": [
    "page = bs4.BeautifulSoup(res)"
   ]
  },
  {
   "cell_type": "code",
   "execution_count": 6,
   "metadata": {},
   "outputs": [
    {
     "data": {
      "text/plain": [
       "<div class=\"_3wU53n\">Sony Bravia X8500F 108cm (43 inch) Ultra HD (4K) LED Smart Android TV</div>"
      ]
     },
     "execution_count": 6,
     "metadata": {},
     "output_type": "execute_result"
    }
   ],
   "source": [
    "page.find('div',class_='_3wU53n')"
   ]
  },
  {
   "cell_type": "code",
   "execution_count": 7,
   "metadata": {},
   "outputs": [],
   "source": [
    "title = page.find('div',class_='_3wU53n')"
   ]
  },
  {
   "cell_type": "code",
   "execution_count": 8,
   "metadata": {},
   "outputs": [
    {
     "data": {
      "text/plain": [
       "'Sony Bravia X8500F 108cm (43 inch) Ultra HD (4K) LED Smart Android TV'"
      ]
     },
     "execution_count": 8,
     "metadata": {},
     "output_type": "execute_result"
    }
   ],
   "source": [
    "title.text"
   ]
  },
  {
   "cell_type": "code",
   "execution_count": 9,
   "metadata": {},
   "outputs": [],
   "source": [
    "titles = page.findAll('div',class_='_3wU53n')"
   ]
  },
  {
   "cell_type": "code",
   "execution_count": 11,
   "metadata": {},
   "outputs": [
    {
     "data": {
      "text/plain": [
       "24"
      ]
     },
     "execution_count": 11,
     "metadata": {},
     "output_type": "execute_result"
    }
   ],
   "source": [
    "len(titles)"
   ]
  },
  {
   "cell_type": "code",
   "execution_count": 12,
   "metadata": {},
   "outputs": [
    {
     "name": "stdout",
     "output_type": "stream",
     "text": [
      "Sony Bravia X8500F 108cm (43 inch) Ultra HD (4K) LED Smart Android TV\n",
      "iFFALCON by TCL AI Powered K31 125.73cm (50 inch) Ultra HD (4K) LED Smart Android TV  with HDR 10\n",
      "Samsung Series 4 80cm (32 inch) HD Ready LED Smart TV\n",
      "Mi LED Smart TV 4A PRO 80 cm (32)  with Android\n",
      "Mi LED Smart TV 4X 108 cm (43)\n",
      "Mi LED Smart TV 4A Pro 108 cm (43)  with Android\n",
      "Sansui Pro View 60cm (24 inch) HD Ready LED TV  with High Color Transmittance\n",
      "Vu Premium Android 126cm (50 inch) Ultra HD (4K) LED Smart Android TV  with Cricket Mode\n",
      "LG All-in-One 108cm (43 inch) Full HD LED Smart TV 2019 Edition\n",
      "Thomson B9 Pro 80cm (32 inch) HD Ready LED Smart TV\n",
      "Motorola 80.5cm (32 inch) HD Ready LED Smart Android TV  with Wireless Gamepad\n",
      "Micromax 81cm (32 inch) HD Ready LED TV  with IPS Panel\n",
      "LG All-in-One 80cm (32 inch) HD Ready LED Smart TV 2019 Edition\n",
      "Sony Bravia W662F 108cm (43 inch) Full HD LED Smart TV\n",
      "iFFALCON by TCL 123.13cm (49 inch) Full HD LED Smart Android TV  with Google Assistant\n",
      "Vu 100cm (40 inch) Full HD LED Smart TV\n",
      "Samsung 80cm (32 inch) HD Ready LED TV 2018 Edition\n",
      "Vu Pixelight 138cm (55 inch) Ultra HD (4K) LED Smart TV  with Cricket Mode\n",
      "Sansui Pro View 80cm (32 inch) HD Ready LED TV 2019 Edition  with WCG\n",
      "AKAI HDR Series 81.28cm (32 inch) HD Ready LED TV\n",
      "Philips 126cm (50 inch) Ultra HD (4K) LED Smart TV\n",
      "Vu Pixelight 108cm (43 inch) Ultra HD (4K) LED Smart TV\n",
      "Vu 80cm (32 inch) HD Ready LED TV\n",
      "Thomson R9 80cm (32 inch) HD Ready LED TV\n"
     ]
    }
   ],
   "source": [
    "for i in range(len(titles)):\n",
    "    print(titles[i].text)"
   ]
  },
  {
   "cell_type": "code",
   "execution_count": null,
   "metadata": {},
   "outputs": [],
   "source": []
  }
 ],
 "metadata": {
  "kernelspec": {
   "display_name": "Python 3",
   "language": "python",
   "name": "python3"
  },
  "language_info": {
   "codemirror_mode": {
    "name": "ipython",
    "version": 3
   },
   "file_extension": ".py",
   "mimetype": "text/x-python",
   "name": "python",
   "nbconvert_exporter": "python",
   "pygments_lexer": "ipython3",
   "version": "3.7.3"
  }
 },
 "nbformat": 4,
 "nbformat_minor": 4
}
