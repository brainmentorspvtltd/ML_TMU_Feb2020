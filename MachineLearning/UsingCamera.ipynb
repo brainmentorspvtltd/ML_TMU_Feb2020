{
 "cells": [
  {
   "cell_type": "code",
   "execution_count": 1,
   "metadata": {},
   "outputs": [],
   "source": [
    "import cv2"
   ]
  },
  {
   "cell_type": "code",
   "execution_count": 2,
   "metadata": {},
   "outputs": [],
   "source": [
    "dataset = cv2.CascadeClassifier('data.xml')"
   ]
  },
  {
   "cell_type": "code",
   "execution_count": 5,
   "metadata": {},
   "outputs": [],
   "source": [
    "# video = cv2.VideoCapture(0)\n",
    "video = cv2.VideoCapture('video_1.mp4')\n",
    "while True:\n",
    "    flag, img = video.read()\n",
    "    img = cv2.resize(img,None,fx=0.5,fy=0.5)\n",
    "    if flag:\n",
    "        faces = dataset.detectMultiScale(img)\n",
    "        for x,y,w,h in faces:\n",
    "            cv2.rectangle(img,(x,y),(x+w,y+h),(0,100,255),4)\n",
    "        cv2.imshow('result',img)\n",
    "        if cv2.waitKey(10) == ord('q'):\n",
    "            break\n",
    "    else:\n",
    "        print(\"Camera not working\")\n",
    "\n",
    "video.release()\n",
    "cv2.destroyAllWindows()"
   ]
  },
  {
   "cell_type": "code",
   "execution_count": null,
   "metadata": {},
   "outputs": [],
   "source": []
  }
 ],
 "metadata": {
  "kernelspec": {
   "display_name": "Python 3",
   "language": "python",
   "name": "python3"
  },
  "language_info": {
   "codemirror_mode": {
    "name": "ipython",
    "version": 3
   },
   "file_extension": ".py",
   "mimetype": "text/x-python",
   "name": "python",
   "nbconvert_exporter": "python",
   "pygments_lexer": "ipython3",
   "version": "3.7.3"
  }
 },
 "nbformat": 4,
 "nbformat_minor": 4
}
